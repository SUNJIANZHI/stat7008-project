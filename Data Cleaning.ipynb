{
 "cells": [
  {
   "cell_type": "code",
   "execution_count": null,
   "id": "c8cd0eea",
   "metadata": {},
   "outputs": [],
   "source": [
    "import pandas as pd\n",
    "import matplotlib.pyplot as plt\n",
    "import numpy as np\n",
    "\n",
    "df = pd.read_excel('Field names_COVID intubation (project 1) 20220404 with simulated data.xlsx',sheet_name = 'simulated data')"
   ]
  },
  {
   "cell_type": "code",
   "execution_count": null,
   "id": "7e68bfa0",
   "metadata": {},
   "outputs": [],
   "source": [
    "df.drop(0, inplace = True)"
   ]
  },
  {
   "cell_type": "code",
   "execution_count": null,
   "id": "8a524cc1",
   "metadata": {},
   "outputs": [],
   "source": [
    "df.shape"
   ]
  },
  {
   "cell_type": "code",
   "execution_count": null,
   "id": "707d0c6d",
   "metadata": {},
   "outputs": [],
   "source": [
    "import pandas_profiling as pp\n",
    "\n",
    "pp.ProfileReport(df) #to display the report"
   ]
  },
  {
   "cell_type": "code",
   "execution_count": null,
   "id": "0833f929",
   "metadata": {},
   "outputs": [],
   "source": [
    "nullseries = df.isnull().sum()\n",
    "nullseries[nullseries > 0]"
   ]
  },
  {
   "cell_type": "code",
   "execution_count": null,
   "id": "6d9196b9",
   "metadata": {},
   "outputs": [],
   "source": [
    "df.drop([\"CPAP, FiO2\", \"CPAP, pressure level\",\"CPAP, initial FiO2\",\"CPAP, initial pressure level\"], axis=1 , inplace=True) "
   ]
  },
  {
   "cell_type": "code",
   "execution_count": null,
   "id": "127fd13d",
   "metadata": {},
   "outputs": [],
   "source": [
    "#Interface has two enumeration. Populate N/A as a third class.\n",
    "df[\"Interface\"].fillna(\"N/A\", inplace=True)\n",
    "df[\"HFNC, initial flow\"].fillna(df[\"HFNC, initial flow\"].mean(), inplace=True)\n",
    "df[\"HFNC, initial FiO2\"].fillna(df[\"HFNC, initial FiO2\"].mean(), inplace=True)\n",
    "df[\"HFNC, flow\"].fillna(df[\"HFNC, flow\"].mean(), inplace=True)"
   ]
  },
  {
   "cell_type": "code",
   "execution_count": null,
   "id": "2db7a617",
   "metadata": {},
   "outputs": [],
   "source": [
    "numeric_data = df.select_dtypes(include=[np.number])\n",
    "categorical_data = df.select_dtypes(exclude=[np.number])"
   ]
  },
  {
   "cell_type": "code",
   "execution_count": null,
   "id": "367f2825",
   "metadata": {},
   "outputs": [],
   "source": [
    "for i in numeric_data.columns:\n",
    "    df[[i]].plot.box(vert = False, grid = True)"
   ]
  },
  {
   "cell_type": "code",
   "execution_count": null,
   "id": "805a64c9",
   "metadata": {},
   "outputs": [],
   "source": [
    "df.describe()"
   ]
  },
  {
   "cell_type": "code",
   "execution_count": null,
   "id": "24a22cd9",
   "metadata": {},
   "outputs": [],
   "source": [
    "df.corr()"
   ]
  },
  {
   "cell_type": "code",
   "execution_count": null,
   "id": "78559f28",
   "metadata": {},
   "outputs": [],
   "source": [
    "for i in categorical_data.columns:\n",
    "    print(df[[i]].value_counts(normalize=True))"
   ]
  },
  {
   "cell_type": "code",
   "execution_count": null,
   "id": "92939da4",
   "metadata": {},
   "outputs": [],
   "source": []
  }
 ],
 "metadata": {
  "kernelspec": {
   "display_name": "Python 3 (ipykernel)",
   "language": "python",
   "name": "python3"
  },
  "language_info": {
   "codemirror_mode": {
    "name": "ipython",
    "version": 3
   },
   "file_extension": ".py",
   "mimetype": "text/x-python",
   "name": "python",
   "nbconvert_exporter": "python",
   "pygments_lexer": "ipython3",
   "version": "3.9.7"
  }
 },
 "nbformat": 4,
 "nbformat_minor": 5
}
